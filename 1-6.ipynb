{
 "cells": [
  {
   "cell_type": "code",
   "execution_count": 34,
   "id": "c427070d-d94a-4ad7-9e61-b14bf7893a94",
   "metadata": {},
   "outputs": [],
   "source": [
    "import numpy as np\n",
    "from astropy.table import Table\n",
    "from astropy.io import ascii \n",
    "\n",
    "x = np.linspace(0, 2*np.pi, 1000)"
   ]
  },
  {
   "cell_type": "code",
   "execution_count": 37,
   "id": "662c9c60-1236-4c98-97ed-3136ba2daa4f",
   "metadata": {
    "scrolled": true
   },
   "outputs": [],
   "source": [
    "def my_cosine(x):\n",
    "    c = np.cos(x)\n",
    "    return(c)\n",
    "#*Cosine Function* for x"
   ]
  },
  {
   "cell_type": "code",
   "execution_count": 23,
   "id": "afe6f738-9bef-4edc-a54b-9526e1444bb0",
   "metadata": {},
   "outputs": [],
   "source": [
    "def my_sine():\n",
    "    s = np.sin(x)\n",
    "    return(s)\n",
    "#*Sine Function* for x"
   ]
  },
  {
   "cell_type": "code",
   "execution_count": 35,
   "id": "3da4a57f-ff4a-43c1-a725-ed8452cfac90",
   "metadata": {},
   "outputs": [],
   "source": [
    "def main(): #tabulate sin(x) and cos(x)\n",
    "    my_cosine()\n",
    "    my_sine()\n",
    "    data = Table([c,s],names=[\"cos(x)\",\"sin(x)\"]) \n",
    "    ascii.write(data, 'table-1-6.txt', format='commented_header', overwrite=True)\n",
    "    data_in = ascii.read('table-1-6.txt')\n",
    "    print(data_in)"
   ]
  },
  {
   "cell_type": "code",
   "execution_count": 36,
   "id": "a15afe69-ce92-4483-8e6f-ebbc43fa8331",
   "metadata": {},
   "outputs": [],
   "source": [
    "def main():\n",
    "    data = Table([x,c,s],names=[\"x\",\"cos(x)\",\"sin(x)\"]) #tabulate x, cos(x), and sin(x)\n",
    "    ascii.write(data, 'table-1-6.2.txt', format='commented_header', overwrite=True)\n",
    "    data_in = ascii.read('table-1-6.2.txt')\n",
    "    print(data_in)\n",
    "#use a for loop to print out the first 10 values of x, sin(x), and cos(x) in columns"
   ]
  },
  {
   "cell_type": "code",
   "execution_count": null,
   "id": "e1198d8d-e235-433a-afa0-bc10609e9a40",
   "metadata": {},
   "outputs": [],
   "source": []
  }
 ],
 "metadata": {
  "kernelspec": {
   "display_name": "Python 3 (ipykernel)",
   "language": "python",
   "name": "python3"
  },
  "language_info": {
   "codemirror_mode": {
    "name": "ipython",
    "version": 3
   },
   "file_extension": ".py",
   "mimetype": "text/x-python",
   "name": "python",
   "nbconvert_exporter": "python",
   "pygments_lexer": "ipython3",
   "version": "3.11.5"
  }
 },
 "nbformat": 4,
 "nbformat_minor": 5
}
